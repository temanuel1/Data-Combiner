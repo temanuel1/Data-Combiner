{
 "cells": [
  {
   "cell_type": "code",
   "execution_count": 1,
   "metadata": {},
   "outputs": [
    {
     "name": "stdout",
     "output_type": "stream",
     "text": [
      "Requirement already satisfied: datetime in c:\\users\\tyler\\appdata\\local\\packages\\pythonsoftwarefoundation.python.3.9_qbz5n2kfra8p0\\localcache\\local-packages\\python39\\site-packages (4.7)\n",
      "Requirement already satisfied: pytz in c:\\users\\tyler\\appdata\\local\\packages\\pythonsoftwarefoundation.python.3.9_qbz5n2kfra8p0\\localcache\\local-packages\\python39\\site-packages (from datetime) (2022.2.1)\n",
      "Requirement already satisfied: zope.interface in c:\\users\\tyler\\appdata\\local\\packages\\pythonsoftwarefoundation.python.3.9_qbz5n2kfra8p0\\localcache\\local-packages\\python39\\site-packages (from datetime) (5.4.0)\n",
      "Requirement already satisfied: setuptools in c:\\program files\\windowsapps\\pythonsoftwarefoundation.python.3.9_3.9.3568.0_x64__qbz5n2kfra8p0\\lib\\site-packages (from zope.interface->datetime) (58.1.0)\n",
      "Note: you may need to restart the kernel to use updated packages.\n"
     ]
    }
   ],
   "source": [
    "pip install datetime"
   ]
  },
  {
   "cell_type": "code",
   "execution_count": 53,
   "metadata": {},
   "outputs": [],
   "source": [
    "from datetime import datetime\n",
    "import pandas as pd\n",
    "import numpy as np\n",
    "import math"
   ]
  },
  {
   "cell_type": "code",
   "execution_count": 83,
   "metadata": {},
   "outputs": [],
   "source": [
    "Asia_df = pd.read_csv(\"C:/Users/tyler/APL Projects/Data Combiner/Locational Data/fishy files take on Asia.csv\")\n",
    "Europe_df = pd.read_csv(\"C:/Users/tyler/APL Projects/Data Combiner/Locational Data/fishy files trip to Europe.csv\")\n"
   ]
  },
  {
   "cell_type": "code",
   "execution_count": 84,
   "metadata": {},
   "outputs": [],
   "source": [
    "Asia_dates = Asia_df['date']\n",
    "Europe_dates = Europe_df['date']"
   ]
  },
  {
   "cell_type": "code",
   "execution_count": 85,
   "metadata": {},
   "outputs": [],
   "source": [
    "Asia_converted = pd.to_datetime(Asia_dates, errors='coerce')\n",
    "Europe_converted = pd.to_datetime(Europe_dates, errors='coerce')"
   ]
  },
  {
   "cell_type": "code",
   "execution_count": 87,
   "metadata": {},
   "outputs": [],
   "source": [
    "for i in range(len(Asia_converted)):\n",
    "    Asia_converted[i] = Asia_converted[i].day_of_year"
   ]
  },
  {
   "cell_type": "code",
   "execution_count": null,
   "metadata": {},
   "outputs": [],
   "source": [
    "for i in range(len(Europe_converted)):\n",
    "    Europe_converted[i] = Europe_converted[i].day_of_year"
   ]
  },
  {
   "cell_type": "code",
   "execution_count": 88,
   "metadata": {},
   "outputs": [],
   "source": [
    "Asia_converted = Asia_converted.to_frame()\n",
    "Europe_converted = Europe_converted.to_frame()"
   ]
  },
  {
   "cell_type": "code",
   "execution_count": 90,
   "metadata": {},
   "outputs": [],
   "source": [
    "Asia_converted_dates = Asia_converted['date'].to_frame()\n",
    "Europe_converted_dates = Europe_converted['date'].to_frame()"
   ]
  },
  {
   "cell_type": "code",
   "execution_count": 91,
   "metadata": {},
   "outputs": [],
   "source": [
    "Asia_df_final = Asia_df.assign(date=Asia_converted_dates)\n",
    "Europe_df_final = Europe_df.assign(date=Europe_converted_dates)"
   ]
  },
  {
   "cell_type": "code",
   "execution_count": 92,
   "metadata": {},
   "outputs": [],
   "source": [
    "days_in_year = 366"
   ]
  },
  {
   "cell_type": "code",
   "execution_count": 93,
   "metadata": {},
   "outputs": [
    {
     "data": {
      "text/plain": [
       "array([ 1.71663298e-02,  1.71663298e-02,  1.71663298e-02, ...,\n",
       "       -2.44929360e-16, -2.44929360e-16, -2.44929360e-16])"
      ]
     },
     "execution_count": 93,
     "metadata": {},
     "output_type": "execute_result"
    }
   ],
   "source": [
    "Asia_days = 2* np.pi * Asia_df_final.date/days_in_year\n",
    "Asia_days = np.array(Asia_days).astype(np.float64)\n",
    "\n",
    "Europe_days = 2* np.pi * Europe_df_final.date/days_in_year\n",
    "Europe_days = np.array(Europe_days).astype(np.float64)"
   ]
  },
  {
   "cell_type": "code",
   "execution_count": 95,
   "metadata": {},
   "outputs": [],
   "source": [
    "Asia_df_trig_final = Asia_df_final.assign(sin = np.sin(Asia_days), cos = np.cos(Asia_days))\n",
    "Europe_df_trig_final = Europe_df_final.assign(sin = np.sin(Europe_days), cos = np.cos(Europe_days))"
   ]
  },
  {
   "cell_type": "code",
   "execution_count": 96,
   "metadata": {},
   "outputs": [],
   "source": [
    "Asia_df_trig_final.to_csv(\"Asia fishys get triggy.csv\")\n",
    "Europe_df_trig_final.to_csv(\"European Trout try trig.csv\")"
   ]
  }
 ],
 "metadata": {
  "kernelspec": {
   "display_name": "Python 3.9.13 64-bit (microsoft store)",
   "language": "python",
   "name": "python3"
  },
  "language_info": {
   "codemirror_mode": {
    "name": "ipython",
    "version": 3
   },
   "file_extension": ".py",
   "mimetype": "text/x-python",
   "name": "python",
   "nbconvert_exporter": "python",
   "pygments_lexer": "ipython3",
   "version": "3.9.13"
  },
  "orig_nbformat": 4,
  "vscode": {
   "interpreter": {
    "hash": "603d86ad8b85ddfa9e3f5afa803c807791a55dd11dd19be35e20f82ff807e88b"
   }
  }
 },
 "nbformat": 4,
 "nbformat_minor": 2
}
