{
 "cells": [
  {
   "cell_type": "markdown",
   "metadata": {},
   "source": [
    "%pip install pandas\n"
   ]
  },
  {
   "cell_type": "code",
   "execution_count": 1,
   "metadata": {},
   "outputs": [
    {
     "name": "stdout",
     "output_type": "stream",
     "text": [
      "Requirement already satisfied: matplotlib in c:\\users\\tyler\\appdata\\local\\packages\\pythonsoftwarefoundation.python.3.9_qbz5n2kfra8p0\\localcache\\local-packages\\python39\\site-packages (3.3.4)\n",
      "Requirement already satisfied: python-dateutil>=2.1 in c:\\users\\tyler\\appdata\\local\\packages\\pythonsoftwarefoundation.python.3.9_qbz5n2kfra8p0\\localcache\\local-packages\\python39\\site-packages (from matplotlib) (2.8.2)\n",
      "Requirement already satisfied: pillow>=6.2.0 in c:\\users\\tyler\\appdata\\local\\packages\\pythonsoftwarefoundation.python.3.9_qbz5n2kfra8p0\\localcache\\local-packages\\python39\\site-packages (from matplotlib) (9.1.0)\n",
      "Requirement already satisfied: pyparsing!=2.0.4,!=2.1.2,!=2.1.6,>=2.0.3 in c:\\users\\tyler\\appdata\\local\\packages\\pythonsoftwarefoundation.python.3.9_qbz5n2kfra8p0\\localcache\\local-packages\\python39\\site-packages (from matplotlib) (3.0.9)\n",
      "Requirement already satisfied: numpy>=1.15 in c:\\users\\tyler\\appdata\\local\\packages\\pythonsoftwarefoundation.python.3.9_qbz5n2kfra8p0\\localcache\\local-packages\\python39\\site-packages (from matplotlib) (1.23.3)\n",
      "Requirement already satisfied: cycler>=0.10 in c:\\users\\tyler\\appdata\\local\\packages\\pythonsoftwarefoundation.python.3.9_qbz5n2kfra8p0\\localcache\\local-packages\\python39\\site-packages (from matplotlib) (0.11.0)\n",
      "Requirement already satisfied: kiwisolver>=1.0.1 in c:\\users\\tyler\\appdata\\local\\packages\\pythonsoftwarefoundation.python.3.9_qbz5n2kfra8p0\\localcache\\local-packages\\python39\\site-packages (from matplotlib) (1.4.4)\n",
      "Requirement already satisfied: six>=1.5 in c:\\users\\tyler\\appdata\\local\\packages\\pythonsoftwarefoundation.python.3.9_qbz5n2kfra8p0\\localcache\\local-packages\\python39\\site-packages (from python-dateutil>=2.1->matplotlib) (1.15.0)\n",
      "Note: you may need to restart the kernel to use updated packages.\n"
     ]
    }
   ],
   "source": [
    "pip install matplotlib"
   ]
  },
  {
   "cell_type": "code",
   "execution_count": 2,
   "metadata": {},
   "outputs": [
    {
     "name": "stdout",
     "output_type": "stream",
     "text": [
      "Requirement already satisfied: statsmodels in c:\\users\\tyler\\appdata\\local\\packages\\pythonsoftwarefoundation.python.3.9_qbz5n2kfra8p0\\localcache\\local-packages\\python39\\site-packages (0.13.2)\n",
      "Requirement already satisfied: numpy>=1.17 in c:\\users\\tyler\\appdata\\local\\packages\\pythonsoftwarefoundation.python.3.9_qbz5n2kfra8p0\\localcache\\local-packages\\python39\\site-packages (from statsmodels) (1.23.3)\n",
      "Requirement already satisfied: scipy>=1.3 in c:\\users\\tyler\\appdata\\local\\packages\\pythonsoftwarefoundation.python.3.9_qbz5n2kfra8p0\\localcache\\local-packages\\python39\\site-packages (from statsmodels) (1.9.1)\n",
      "Requirement already satisfied: pandas>=0.25 in c:\\users\\tyler\\appdata\\local\\packages\\pythonsoftwarefoundation.python.3.9_qbz5n2kfra8p0\\localcache\\local-packages\\python39\\site-packages (from statsmodels) (1.5.0)\n",
      "Requirement already satisfied: packaging>=21.3 in c:\\users\\tyler\\appdata\\local\\packages\\pythonsoftwarefoundation.python.3.9_qbz5n2kfra8p0\\localcache\\local-packages\\python39\\site-packages (from statsmodels) (21.3)\n",
      "Requirement already satisfied: patsy>=0.5.2 in c:\\users\\tyler\\appdata\\local\\packages\\pythonsoftwarefoundation.python.3.9_qbz5n2kfra8p0\\localcache\\local-packages\\python39\\site-packages (from statsmodels) (0.5.2)\n",
      "Requirement already satisfied: pyparsing!=3.0.5,>=2.0.2 in c:\\users\\tyler\\appdata\\local\\packages\\pythonsoftwarefoundation.python.3.9_qbz5n2kfra8p0\\localcache\\local-packages\\python39\\site-packages (from packaging>=21.3->statsmodels) (3.0.9)\n",
      "Requirement already satisfied: pytz>=2020.1 in c:\\users\\tyler\\appdata\\local\\packages\\pythonsoftwarefoundation.python.3.9_qbz5n2kfra8p0\\localcache\\local-packages\\python39\\site-packages (from pandas>=0.25->statsmodels) (2022.2.1)\n",
      "Requirement already satisfied: python-dateutil>=2.8.1 in c:\\users\\tyler\\appdata\\local\\packages\\pythonsoftwarefoundation.python.3.9_qbz5n2kfra8p0\\localcache\\local-packages\\python39\\site-packages (from pandas>=0.25->statsmodels) (2.8.2)\n",
      "Requirement already satisfied: six in c:\\users\\tyler\\appdata\\local\\packages\\pythonsoftwarefoundation.python.3.9_qbz5n2kfra8p0\\localcache\\local-packages\\python39\\site-packages (from patsy>=0.5.2->statsmodels) (1.15.0)\n",
      "Note: you may need to restart the kernel to use updated packages.\n"
     ]
    }
   ],
   "source": [
    "pip install statsmodels"
   ]
  },
  {
   "cell_type": "code",
   "execution_count": 3,
   "metadata": {},
   "outputs": [],
   "source": [
    "import pandas as pd\n",
    "import matplotlib.pyplot as plt\n",
    "from statsmodels.graphics.dotplots import dot_plot\n",
    "\n",
    "df = pd.read_csv(\"C:/Users/tyler/APL Projects/Data Combiner/fishy files/2020-2021(combined).csv\")\n"
   ]
  },
  {
   "cell_type": "code",
   "execution_count": 4,
   "metadata": {},
   "outputs": [
    {
     "name": "stdout",
     "output_type": "stream",
     "text": [
      "302304\n",
      "                 date  cell_ll_lat  ...    hours  fishing_hours\n",
      "6954       2019-01-01         32.0  ...  19.8416         0.0000\n",
      "9542       2019-01-01         32.5  ...   4.2933         4.0180\n",
      "9573       2019-01-01         34.5  ...   1.9169         1.9169\n",
      "9574       2019-01-01         34.5  ...   0.2830         0.2830\n",
      "9575       2019-01-01         34.5  ...   3.7655         3.4986\n",
      "...               ...          ...  ...      ...            ...\n",
      "107204986  2020-12-31         31.8  ...   0.5086         0.0000\n",
      "107204987  2020-12-31         31.8  ...   1.7575         1.7575\n",
      "107204988  2020-12-31         31.8  ...  10.0158         4.3241\n",
      "107204989  2020-12-31         31.8  ...   1.5958         0.0000\n",
      "107204990  2020-12-31         31.8  ...   3.5177         3.5177\n",
      "\n",
      "[50384 rows x 6 columns]\n"
     ]
    }
   ],
   "source": [
    "# test_df = pd.read_csv(\"C:/Users/tyler/APL Projects/Data Combiner/fishy files/2019-01-01.csv\")\n",
    "# print(df.head())\n",
    "# print(df.size)\n",
    "# print(df.size)\n",
    "cell_ll_lat = df['cell_ll_lat']\n",
    "cell_ll_lon = df['cell_ll_lon']\n",
    "EuropeDataFrame = df[(cell_ll_lat < 35) & (cell_ll_lat > 30) & (cell_ll_lon < 35) & (cell_ll_lon > 30)]\n",
    "print(EuropeDataFrame.size)\n",
    "print(EuropeDataFrame)\n",
    "# print(df.loc[107206844]['cell_ll_lat'])"
   ]
  },
  {
   "cell_type": "code",
   "execution_count": 5,
   "metadata": {},
   "outputs": [],
   "source": [
    "EuropeDataFrame.to_csv(\"fishy files trip to small Europe.csv\")"
   ]
  },
  {
   "cell_type": "code",
   "execution_count": 6,
   "metadata": {},
   "outputs": [
    {
     "name": "stdout",
     "output_type": "stream",
     "text": [
      "184759608\n"
     ]
    }
   ],
   "source": [
    "# test_df = pd.read_csv(\"C:/Users/tyler/APL Projects/Data Combiner/fishy files/2019-01-01.csv\")\n",
    "# print(df.head())\n",
    "# print(df.size)\n",
    "# print(df.size)\n",
    "cell_ll_lat = df['cell_ll_lat']\n",
    "cell_ll_lon = df['cell_ll_lon']\n",
    "AsiaDataFrame = df[(cell_ll_lat < 48) & (cell_ll_lat > 21) & (cell_ll_lon < 153) & (cell_ll_lon > 107)]\n",
    "print(AsiaDataFrame.size)\n",
    "# print(df.loc[107206844]['cell_ll_lat'])"
   ]
  },
  {
   "cell_type": "code",
   "execution_count": 25,
   "metadata": {},
   "outputs": [],
   "source": [
    "AsiaDataFrame.to_csv(\"fishy files take on Asia.csv\")"
   ]
  }
 ],
 "metadata": {
  "kernelspec": {
   "display_name": "Python 3.9.13 64-bit (microsoft store)",
   "language": "python",
   "name": "python3"
  },
  "language_info": {
   "codemirror_mode": {
    "name": "ipython",
    "version": 3
   },
   "file_extension": ".py",
   "mimetype": "text/x-python",
   "name": "python",
   "nbconvert_exporter": "python",
   "pygments_lexer": "ipython3",
   "version": "3.9.13"
  },
  "orig_nbformat": 4,
  "vscode": {
   "interpreter": {
    "hash": "603d86ad8b85ddfa9e3f5afa803c807791a55dd11dd19be35e20f82ff807e88b"
   }
  }
 },
 "nbformat": 4,
 "nbformat_minor": 2
}
